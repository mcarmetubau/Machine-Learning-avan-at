{
 "cells": [
  {
   "cell_type": "code",
   "execution_count": 1,
   "metadata": {},
   "outputs": [
    {
     "name": "stderr",
     "output_type": "stream",
     "text": [
      "[nltk_data] Downloading package punkt to\n",
      "[nltk_data]     C:\\Users\\mcarm\\AppData\\Roaming\\nltk_data...\n",
      "[nltk_data]   Package punkt is already up-to-date!\n",
      "[nltk_data] Downloading package stopwords to\n",
      "[nltk_data]     C:\\Users\\mcarm\\AppData\\Roaming\\nltk_data...\n",
      "[nltk_data]   Package stopwords is already up-to-date!\n"
     ]
    }
   ],
   "source": [
    "#Nivell 2\n",
    "#- Exercici 1\n",
    "#Treu les stopwords i realitza stemming al teu conjunt de dades.\n",
    "\n",
    "import nltk\n",
    "nltk.download('punkt')\n",
    "nltk.download('stopwords')\n",
    "\n",
    "from nltk.tokenize import sent_tokenize\n",
    "text=\"Face coverings will become mandatory again in shops and on public transport in England. Boris Johnson said Christmas would be considerably better than last year. The measures were temporary and precautionary, he added.\"\n"
   ]
  },
  {
   "cell_type": "code",
   "execution_count": 5,
   "metadata": {},
   "outputs": [
    {
     "name": "stdout",
     "output_type": "stream",
     "text": [
      "Tokenized Sentence: ['Face coverings will become mandatory again in shops and on public transport in England.', 'Boris Johnson said Christmas would be considerably better than last year.', 'The measures were temporary and precautionary, he added.']\n",
      "Filterd Sentence: ['Face', 'coverings', 'become', 'mandatory', 'shops', 'public', 'transport', 'England', '.', 'Boris', 'Johnson', 'said', 'Christmas', 'would', 'considerably', 'better', 'last', 'year', '.', 'The', 'measures', 'temporary', 'precautionary', ',', 'added', '.']\n"
     ]
    }
   ],
   "source": [
    "\n",
    "from nltk.corpus import stopwords\n",
    "stop_words=set(stopwords.words(\"english\"))\n",
    "\n",
    "tokenized_sent=sent_tokenize(text)\n",
    "filtered_sent=[]\n",
    "for w in tokenized_word:\n",
    "    if w not in stop_words:\n",
    "        filtered_sent.append(w)\n",
    "print(\"Tokenized Sentence:\",tokenized_sent)\n",
    "print(\"Filterd Sentence:\",filtered_sent)"
   ]
  },
  {
   "cell_type": "code",
   "execution_count": 27,
   "metadata": {},
   "outputs": [
    {
     "name": "stdout",
     "output_type": "stream",
     "text": [
      "Face coverings will become mandatory again in shops and on public transport in England. Boris Johnson said Christmas would be considerably better than last year. The measures were temporary and precautionary, he added.\n",
      "['face', 'cover', 'will', 'becom', 'mandatori', 'again', 'in', 'shop', 'and', 'on', 'public', 'transport', 'in', 'england', '.', 'bori', 'johnson', 'said', 'christma', 'would', 'be', 'consider', 'better', 'than', 'last', 'year', '.', 'the', 'measur', 'were', 'temporari', 'and', 'precautionari', ',', 'he', 'ad', '.']\n"
     ]
    }
   ],
   "source": [
    "from nltk.stem import PorterStemmer\n",
    "\n",
    "porter = PorterStemmer()\n",
    "\n",
    "print(text)\n",
    "#print(porter.stem(text))\n",
    "\n",
    "\n",
    "\n",
    "nltk_tokens = nltk.word_tokenize(text)\n",
    "stem_sentence=[]\n",
    "for w_port in nltk_tokens:\n",
    "   stem_sentence.append(porter.stem(w_port))\n",
    "\n",
    "    \n",
    "print (stem_sentence)\n"
   ]
  },
  {
   "cell_type": "code",
   "execution_count": null,
   "metadata": {},
   "outputs": [],
   "source": []
  },
  {
   "cell_type": "code",
   "execution_count": null,
   "metadata": {},
   "outputs": [],
   "source": [
    "\n"
   ]
  }
 ],
 "metadata": {
  "kernelspec": {
   "display_name": "Python 3",
   "language": "python",
   "name": "python3"
  },
  "language_info": {
   "codemirror_mode": {
    "name": "ipython",
    "version": 3
   },
   "file_extension": ".py",
   "mimetype": "text/x-python",
   "name": "python",
   "nbconvert_exporter": "python",
   "pygments_lexer": "ipython3",
   "version": "3.8.5"
  }
 },
 "nbformat": 4,
 "nbformat_minor": 4
}
